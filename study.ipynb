{
 "cells": [
  {
   "cell_type": "code",
   "execution_count": null,
   "id": "1912cea2",
   "metadata": {},
   "outputs": [],
   "source": [
    "#2025.04.24\n",
    "import random\n",
    "\n",
    "ans = random.randint(1,100)\n",
    "\n",
    "while True:\n",
    "    num = int(input('숫자를 입력하세요:'))\n",
    "\n",
    "    if num < ans:\n",
    "        print('더 높게')\n",
    "    elif num > ans:\n",
    "        print('더 낮게')\n",
    "    else:\n",
    "        print('정답')\n",
    "        break\n",
    "     \n",
    "\n",
    "\n"
   ]
  },
  {
   "cell_type": "code",
   "execution_count": 3,
   "id": "5b66ac01",
   "metadata": {},
   "outputs": [
    {
     "name": "stdout",
     "output_type": "stream",
     "text": [
      "출력:\n",
      "i:2\n",
      "want:1\n",
      "to:1\n",
      "graduate:1\n",
      "as:2\n",
      "soon:1\n",
      "possible:1\n"
     ]
    }
   ],
   "source": [
    "#2025.04.25\n",
    "from collections import Counter\n",
    "Sen = input('문장을 입력하세요')\n",
    "Senlist = Sen.lower().split()\n",
    "word_count = Counter(Senlist)\n",
    "\n",
    "print('출력:')\n",
    "for word, count in word_count.items():\n",
    "    print(f\"{word}:{count}\")"
   ]
  },
  {
   "cell_type": "code",
   "execution_count": 11,
   "id": "b7ebfd90",
   "metadata": {},
   "outputs": [
    {
     "name": "stdout",
     "output_type": "stream",
     "text": [
      "입력: was it a cat i saw?\n",
      "정제된 원본: wasitacatisaw\n",
      "뒤집은 문자열: wasitacatisaw\n",
      "출력: 팰린드롬입니다!\n"
     ]
    }
   ],
   "source": [
    "#2025.04.28\n",
    "import re  \n",
    "\n",
    "Sentence = input(\"문장을 입력하세요: \")  \n",
    "print(\"입력:\", Sentence)  \n",
    "\n",
    "Lowersen = re.sub(r\"[^a-zA-Z0-9]\", \"\", Sentence.lower())  # 특수 문자 및 공백 제거  \n",
    "Reversesen = Lowersen[::-1]  \n",
    "\n",
    "# 점검을 위해 문자열을 출력\n",
    "print(f\"정제된 원본: {Lowersen}\")\n",
    "print(f\"뒤집은 문자열: {Reversesen}\")\n",
    "\n",
    "if Lowersen == Reversesen:  \n",
    "    print(\"출력: 팰린드롬입니다!\")  \n",
    "else:  \n",
    "    print(\"출력: 팰린드롬이 아닙니다.\")  "
   ]
  },
  {
   "cell_type": "code",
   "execution_count": null,
   "id": "c2ccbb9c",
   "metadata": {},
   "outputs": [],
   "source": []
  },
  {
   "cell_type": "code",
   "execution_count": null,
   "id": "55ee2ca6",
   "metadata": {},
   "outputs": [],
   "source": []
  }
 ],
 "metadata": {
  "kernelspec": {
   "display_name": "Python 3",
   "language": "python",
   "name": "python3"
  },
  "language_info": {
   "codemirror_mode": {
    "name": "ipython",
    "version": 3
   },
   "file_extension": ".py",
   "mimetype": "text/x-python",
   "name": "python",
   "nbconvert_exporter": "python",
   "pygments_lexer": "ipython3",
   "version": "3.13.2"
  }
 },
 "nbformat": 4,
 "nbformat_minor": 5
}
